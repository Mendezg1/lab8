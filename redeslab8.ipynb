{
 "cells": [
  {
   "cell_type": "code",
   "execution_count": 12,
   "metadata": {},
   "outputs": [],
   "source": [
    "from PIL import Image\n",
    "import numpy as np\n",
    "\n",
    "image = Image.open(\"tux.bmp\")\n",
    "\n",
    "image_array = np.array(image)\n",
    "image_array = image_array.reshape(405, 480, 4)\n",
    "image_bytes = image_array.tobytes()\n",
    "\n",
    "width, height, channels = 480, 405, 4"
   ]
  },
  {
   "cell_type": "code",
   "execution_count": 13,
   "metadata": {},
   "outputs": [],
   "source": [
    "from Crypto.Cipher import AES\n",
    "from Crypto.Util.Padding import pad\n",
    "\n",
    "key = b'Sixteen byte key'\n",
    "\n",
    "cipher_ecb = AES.new(key, AES.MODE_ECB)\n",
    "padded_image_bytes = pad(image_bytes, AES.block_size)\n",
    "encrypted_bytes_ecb = cipher_ecb.encrypt(padded_image_bytes)\n",
    "\n"
   ]
  },
  {
   "cell_type": "code",
   "execution_count": 14,
   "metadata": {},
   "outputs": [],
   "source": [
    "expected_size = width * height * channels\n",
    "encrypted_bytes_ecb = encrypted_bytes_ecb[:expected_size]\n",
    "encrypted_array_ecb = np.frombuffer(encrypted_bytes_ecb, dtype=np.uint8)\n",
    "\n",
    "# forma (405, 480, 4) para la salida\n",
    "encrypted_array_ecb = encrypted_array_ecb.reshape(405, 480, 4)\n",
    "encrypted_image_ecb = Image.fromarray(encrypted_array_ecb, \"RGBA\")\n",
    "\n",
    "# hacerla png\n",
    "encrypted_image_ecb.save(\"tux_encrypted_ecb.png\")\n"
   ]
  },
  {
   "cell_type": "code",
   "execution_count": 15,
   "metadata": {},
   "outputs": [],
   "source": [
    "from Crypto.Random import get_random_bytes\n",
    "\n",
    "# vector inicial de 16 bytes aleatorios\n",
    "iv = get_random_bytes(16)\n",
    "\n",
    "# fijar el modo cbc\n",
    "cipher_cbc = AES.new(key, AES.MODE_CBC, iv)\n",
    "\n",
    "padded_image_bytes = pad(image_bytes, AES.block_size)\n",
    "encrypted_bytes_cbc = cipher_cbc.encrypt(padded_image_bytes)\n",
    "expected_size = width * height * channels\n",
    "encrypted_bytes_cbc = encrypted_bytes_cbc[:expected_size]\n",
    "encrypted_array_cbc = np.frombuffer(encrypted_bytes_cbc, dtype=np.uint8)\n",
    "\n",
    "# forma (405, 480, 4) para la salida\n",
    "encrypted_array_cbc = encrypted_array_cbc.reshape(405, 480, 4)\n",
    "encrypted_image_cbc = Image.fromarray(encrypted_array_cbc, \"RGBA\")\n",
    "\n",
    "# png de salida\n",
    "encrypted_image_cbc.save(\"tux_encrypted_cbc.png\")\n"
   ]
  }
 ],
 "metadata": {
  "kernelspec": {
   "display_name": ".venv",
   "language": "python",
   "name": "python3"
  },
  "language_info": {
   "codemirror_mode": {
    "name": "ipython",
    "version": 3
   },
   "file_extension": ".py",
   "mimetype": "text/x-python",
   "name": "python",
   "nbconvert_exporter": "python",
   "pygments_lexer": "ipython3",
   "version": "3.12.7"
  }
 },
 "nbformat": 4,
 "nbformat_minor": 2
}
